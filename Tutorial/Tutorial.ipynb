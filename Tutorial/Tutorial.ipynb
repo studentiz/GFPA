{
 "cells": [
  {
   "cell_type": "markdown",
   "id": "73b1e83f-0f85-419c-9cb2-3a152e12f32d",
   "metadata": {},
   "source": [
    "# Tutorial"
   ]
  },
  {
   "cell_type": "markdown",
   "id": "04609dbb-d0e7-4dd1-ab73-a76ee4f68c58",
   "metadata": {},
   "source": [
    "In this tutorial, we will take a PBMC dataset captured by CITE-Seq as an example to illustrate the functions of GFPA."
   ]
  },
  {
   "cell_type": "code",
   "execution_count": 1,
   "id": "35e52b9b-f346-457b-a565-a805305e1037",
   "metadata": {},
   "outputs": [],
   "source": [
    "import scanpy as sc\n",
    "import gfpa\n",
    "import matplotlib.pyplot as plt\n",
    "import numpy as np\n",
    "from skbio.stats.composition import clr"
   ]
  },
  {
   "cell_type": "code",
   "execution_count": 2,
   "id": "7396b2a4-7ee6-49cf-811e-94d8cae00b5b",
   "metadata": {},
   "outputs": [],
   "source": [
    "%matplotlib inline\n",
    "%config InlineBackend.figure_format = 'retina'"
   ]
  },
  {
   "cell_type": "markdown",
   "id": "e237aa42-f6bb-4dd6-b89d-b236b68881e9",
   "metadata": {},
   "source": [
    "Load a PBMC dataset."
   ]
  },
  {
   "cell_type": "code",
   "execution_count": 3,
   "id": "572e49d6-d39b-40a5-ba67-4edc77a9a8f4",
   "metadata": {},
   "outputs": [],
   "source": [
    "pbmc = sc.read_h5ad(\"/home/hh/bigdata/hh/GFPA/test_pbmc.h5ad\")"
   ]
  },
  {
   "cell_type": "code",
   "execution_count": 4,
   "id": "4ddcb835-fa85-41d9-b6bd-bd37124c2d4f",
   "metadata": {},
   "outputs": [
    {
     "name": "stderr",
     "output_type": "stream",
     "text": [
      "100%|█████████████████████████████████████████████████████████████████████████████████████████████████████████████████████████████████| 11864/11864 [00:00<00:00, 712921.71it/s]\n"
     ]
    }
   ],
   "source": [
    "pbmc = gfpa.tl.separate_out_protein_expression(pbmc, protein_prefix=\"AB_\", set_protein_obsm_name=\"protein_expression\", layers=\"raw\")"
   ]
  },
  {
   "cell_type": "markdown",
   "id": "b27346bb-c8e8-4f90-972d-9298a9c64ad2",
   "metadata": {},
   "source": [
    "CD4 cells were extracted from PBMC dataset. P. S. This step is optional. The gfpa can also analyze the entire PBMC dataset."
   ]
  },
  {
   "cell_type": "code",
   "execution_count": 5,
   "id": "d1bd57d9-c657-43ce-a655-c4009b0a1597",
   "metadata": {},
   "outputs": [
    {
     "name": "stdout",
     "output_type": "stream",
     "text": [
      "🍪 729 cells are extracted.\n"
     ]
    }
   ],
   "source": [
    "pbmc_cd4 = gfpa.tl.celldata(pbmc, obs=\"initial_clustering\", sp_obs=\"CD4\")"
   ]
  },
  {
   "cell_type": "markdown",
   "id": "561188b9-9671-4867-bdad-497e7c7a2519",
   "metadata": {},
   "source": [
    "The gfpa needs to standardize the RNA data. Please do not input normalized RNA data to gfpa."
   ]
  },
  {
   "cell_type": "code",
   "execution_count": 6,
   "id": "da559a96-706d-4376-89b4-cd8a12fbc29e",
   "metadata": {},
   "outputs": [
    {
     "name": "stdout",
     "output_type": "stream",
     "text": [
      "🫘 11735 types of genes are normalized.\n"
     ]
    }
   ],
   "source": [
    "gfpa.pp.rna_normalization(pbmc_cd4, layers=\"raw\")"
   ]
  },
  {
   "cell_type": "markdown",
   "id": "3765b04b-31b7-4bc3-b0ce-403dc38846d7",
   "metadata": {},
   "source": [
    "The gfpa needs to standardize the RNA data. Please do not input normalized protein data to gfpa. Note: You need to specify the location of the protein data."
   ]
  },
  {
   "cell_type": "code",
   "execution_count": 7,
   "id": "8774834e-b9b1-4a45-b6d3-874505606715",
   "metadata": {},
   "outputs": [
    {
     "name": "stdout",
     "output_type": "stream",
     "text": [
      "🥚 129 types of proteins are normalized.\n"
     ]
    }
   ],
   "source": [
    "gfpa.pp.protein_normalization(pbmc_cd4, protein_obsm=\"protein_expression\")"
   ]
  },
  {
   "cell_type": "markdown",
   "id": "9df201bc-1c10-47d6-a6c2-11a01f6928eb",
   "metadata": {},
   "source": [
    "The gfpa needs to specify a *. gmt file. These *. gmt files will be converted into gene function data sets by gfpa. You can download these files at the following address: https://www.gsea-msigdb.org/gsea/msigdb/index.jsp"
   ]
  },
  {
   "cell_type": "code",
   "execution_count": 8,
   "id": "507ebca7-bfe9-42fa-bc51-7139f00331c6",
   "metadata": {},
   "outputs": [
    {
     "name": "stdout",
     "output_type": "stream",
     "text": [
      "🍽 Reading functional gene collection.\n"
     ]
    },
    {
     "name": "stderr",
     "output_type": "stream",
     "text": [
      "100%|████████████████████████████████████████████████████████████████████████████████████████████████████████████████████████████████████████| 50/50 [00:00<00:00, 60804.64it/s]"
     ]
    },
    {
     "name": "stdout",
     "output_type": "stream",
     "text": [
      "🥗 50 functional gene collections are extracted.\n"
     ]
    },
    {
     "name": "stderr",
     "output_type": "stream",
     "text": [
      "\n"
     ]
    }
   ],
   "source": [
    "gfpa.tl.geneset(pbmc_cd4, gmt_filepath=\"h.all.v2022.1.Hs.symbols.gmt\")"
   ]
  },
  {
   "cell_type": "markdown",
   "id": "9cb4042e-774d-4c4c-b834-282f61b455c6",
   "metadata": {},
   "source": [
    "The time to calculate gfpa depends on the size of cell subtype data set and gene function data set"
   ]
  },
  {
   "cell_type": "code",
   "execution_count": null,
   "id": "17b64884-d4db-4691-ad6d-f3a4aca70489",
   "metadata": {},
   "outputs": [
    {
     "name": "stdout",
     "output_type": "stream",
     "text": [
      "🙂 GFPA scores are being calculated.\n"
     ]
    },
    {
     "name": "stderr",
     "output_type": "stream",
     "text": [
      " 52%|████████████████████████████████████████████████████████████████████████▎                                                                  | 26/50 [00:04<00:04,  5.92it/s]"
     ]
    }
   ],
   "source": [
    "gfpa.tl.scores(pbmc_cd4)"
   ]
  },
  {
   "cell_type": "markdown",
   "id": "4c699bc1-ef07-4576-8c09-316b81103773",
   "metadata": {},
   "source": [
    "The gfpa can be saved as a *. csv file."
   ]
  },
  {
   "cell_type": "code",
   "execution_count": null,
   "id": "9ee3722e-505b-45a1-a906-2fc896237119",
   "metadata": {},
   "outputs": [],
   "source": [
    "gfpa.tl.to_csv(pbmc_cd4, filepath=\"pbmc_cd4_gfpa.csv\")"
   ]
  },
  {
   "cell_type": "markdown",
   "id": "c8258c24-7d5f-43ec-81b9-a1017050f4ec",
   "metadata": {},
   "source": [
    "You can use the following functions to quickly preview the gfpa score."
   ]
  },
  {
   "cell_type": "code",
   "execution_count": null,
   "id": "8b892495-6b4e-4914-bc9a-ff577bd30404",
   "metadata": {},
   "outputs": [],
   "source": [
    "gfpa.tb.top(pbmc_cd4, n=10)"
   ]
  },
  {
   "cell_type": "markdown",
   "id": "8e7051a2-2999-4c8a-a623-b87f5ba7ef55",
   "metadata": {},
   "source": [
    "You can use the following functions to quickly view the correlation between gene sets and proteins."
   ]
  },
  {
   "cell_type": "code",
   "execution_count": null,
   "id": "66b7472c-b526-4af8-bd4e-93765c207864",
   "metadata": {},
   "outputs": [],
   "source": [
    "geneset_name = \"HALLMARK_EPITHELIAL_MESENCHYMAL_TRANSITION\"\n",
    "protein_name = \"AB_CD99\"\n",
    "gfpa.pl.scatter(pbmc_cd4, geneset_name, protein_name, scatter_kws={'color': '#71AD47'}, line_kws={'color': 'black'})"
   ]
  },
  {
   "cell_type": "markdown",
   "id": "80aa310c-8337-4949-a3da-dd67a5feec33",
   "metadata": {},
   "source": [
    "You can view the relationship between each gene and protein in the gene set. The higher the weight, the stronger the relationship between genes and proteins."
   ]
  },
  {
   "cell_type": "code",
   "execution_count": null,
   "id": "2072b750-fce1-4078-bffd-5670edc09679",
   "metadata": {},
   "outputs": [],
   "source": [
    "plt.figure(figsize = (18,6))\n",
    "plt.rcParams.update({'font.size': 10})\n",
    "\n",
    "geneset_name = \"HALLMARK_EPITHELIAL_MESENCHYMAL_TRANSITION\"\n",
    "protein_name = \"AB_CD99\"\n",
    "gfpa.pl.weight(pbmc_cd4, geneset_name, protein_name, model=\"rf\", color=\"#C55A12\")"
   ]
  },
  {
   "cell_type": "code",
   "execution_count": null,
   "id": "07f53044-e6f6-40bc-a7c1-f6e1761fba5a",
   "metadata": {},
   "outputs": [],
   "source": [
    "gfpa.tb.weight(pbmc_cd4, geneset_name, protein_name, model=\"rf\")"
   ]
  },
  {
   "cell_type": "code",
   "execution_count": null,
   "id": "bd4ca879-cbb8-463f-a8e5-b73d43b403fa",
   "metadata": {},
   "outputs": [],
   "source": [
    "pbmc_cd4.uns[\"gfpa\"].to_csv(\"temp.csv\")"
   ]
  },
  {
   "cell_type": "code",
   "execution_count": null,
   "id": "960c2537-3e78-47af-8e4f-297179145969",
   "metadata": {},
   "outputs": [],
   "source": [
    "pbmc_cd4.obsm"
   ]
  }
 ],
 "metadata": {
  "kernelspec": {
   "display_name": "dpi",
   "language": "python",
   "name": "dpi"
  },
  "language_info": {
   "codemirror_mode": {
    "name": "ipython",
    "version": 3
   },
   "file_extension": ".py",
   "mimetype": "text/x-python",
   "name": "python",
   "nbconvert_exporter": "python",
   "pygments_lexer": "ipython3",
   "version": "3.8.12"
  }
 },
 "nbformat": 4,
 "nbformat_minor": 5
}
